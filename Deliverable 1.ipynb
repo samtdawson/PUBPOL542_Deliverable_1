{
 "cells": [
  {
   "cell_type": "code",
   "execution_count": 11,
   "id": "9d8c9c90",
   "metadata": {},
   "outputs": [],
   "source": [
    "import pandas as pd\n",
    "\n",
    "seattlewiki=\"https://en.wikipedia.org/wiki/Seattle\"\n",
    "newyorkwiki=\"https://en.wikipedia.org/wiki/New_York_City\"\n",
    "bostonwiki=\"https://en.wikipedia.org/wiki/Boston\"\n"
   ]
  },
  {
   "cell_type": "code",
   "execution_count": 22,
   "id": "274955c8",
   "metadata": {},
   "outputs": [],
   "source": [
    "seattletab=pd.read_html(seattlewiki, # link\n",
    "                        header=0, # where is the header?\n",
    "                        flavor='bs4', # helper to translate html\n",
    "                        attrs={'class': 'wikitable'})\n",
    "newyorktab=pd.read_html(newyorkwiki, # link\n",
    "                        header=0, # where is the header?\n",
    "                        flavor='bs4', # helper to translate html\n",
    "                        attrs={'class': 'wikitable'})\n",
    "bostontab=pd.read_html(bostonwiki, # link\n",
    "                        header=0, # where is the header?\n",
    "                        flavor='bs4', # helper to translate html\n",
    "                        attrs={'class': 'wikitable'})"
   ]
  },
  {
   "cell_type": "code",
   "execution_count": 32,
   "id": "6f08d600",
   "metadata": {},
   "outputs": [
    {
     "data": {
      "text/html": [
       "<div>\n",
       "<style scoped>\n",
       "    .dataframe tbody tr th:only-of-type {\n",
       "        vertical-align: middle;\n",
       "    }\n",
       "\n",
       "    .dataframe tbody tr th {\n",
       "        vertical-align: top;\n",
       "    }\n",
       "\n",
       "    .dataframe thead th {\n",
       "        text-align: right;\n",
       "    }\n",
       "</style>\n",
       "<table border=\"1\" class=\"dataframe\">\n",
       "  <thead>\n",
       "    <tr style=\"text-align: right;\">\n",
       "      <th></th>\n",
       "      <th>Historical demographics</th>\n",
       "      <th>2020[249]</th>\n",
       "      <th>2010[250]</th>\n",
       "      <th>1990[251]</th>\n",
       "      <th>1970[251]</th>\n",
       "      <th>1940[251]</th>\n",
       "    </tr>\n",
       "  </thead>\n",
       "  <tbody>\n",
       "    <tr>\n",
       "      <th>0</th>\n",
       "      <td>White (non-Hispanic)</td>\n",
       "      <td>30.9%</td>\n",
       "      <td>33.3%</td>\n",
       "      <td>43.4%</td>\n",
       "      <td>64.0%</td>\n",
       "      <td>92.1%</td>\n",
       "    </tr>\n",
       "    <tr>\n",
       "      <th>1</th>\n",
       "      <td>Hispanic or Latino</td>\n",
       "      <td>28.3%</td>\n",
       "      <td>28.6%</td>\n",
       "      <td>23.7%</td>\n",
       "      <td>15.2%</td>\n",
       "      <td>1.6%</td>\n",
       "    </tr>\n",
       "    <tr>\n",
       "      <th>2</th>\n",
       "      <td>Black or African American (non-Hispanic)</td>\n",
       "      <td>20.2%</td>\n",
       "      <td>22.8%</td>\n",
       "      <td>28.8%</td>\n",
       "      <td>21.1%</td>\n",
       "      <td>6.1%</td>\n",
       "    </tr>\n",
       "    <tr>\n",
       "      <th>3</th>\n",
       "      <td>Asian and Pacific Islander (non-Hispanic)</td>\n",
       "      <td>15.6%</td>\n",
       "      <td>12.6%</td>\n",
       "      <td>7.0%</td>\n",
       "      <td>1.2%</td>\n",
       "      <td>0.2%</td>\n",
       "    </tr>\n",
       "    <tr>\n",
       "      <th>4</th>\n",
       "      <td>Native American (non-Hispanic)</td>\n",
       "      <td>0.2%</td>\n",
       "      <td>0.2%</td>\n",
       "      <td>0.4%</td>\n",
       "      <td>0.1%</td>\n",
       "      <td>NaN</td>\n",
       "    </tr>\n",
       "    <tr>\n",
       "      <th>5</th>\n",
       "      <td>Two or more races (non-Hispanic)</td>\n",
       "      <td>3.4%</td>\n",
       "      <td>1.8%</td>\n",
       "      <td>NaN</td>\n",
       "      <td>NaN</td>\n",
       "      <td>NaN</td>\n",
       "    </tr>\n",
       "  </tbody>\n",
       "</table>\n",
       "</div>"
      ],
      "text/plain": [
       "                     Historical demographics 2020[249] 2010[250] 1990[251]  \\\n",
       "0                       White (non-Hispanic)     30.9%     33.3%     43.4%   \n",
       "1                         Hispanic or Latino     28.3%     28.6%     23.7%   \n",
       "2   Black or African American (non-Hispanic)     20.2%     22.8%     28.8%   \n",
       "3  Asian and Pacific Islander (non-Hispanic)     15.6%     12.6%      7.0%   \n",
       "4             Native American (non-Hispanic)      0.2%      0.2%      0.4%   \n",
       "5           Two or more races (non-Hispanic)      3.4%      1.8%       NaN   \n",
       "\n",
       "  1970[251] 1940[251]  \n",
       "0     64.0%     92.1%  \n",
       "1     15.2%      1.6%  \n",
       "2     21.1%      6.1%  \n",
       "3      1.2%      0.2%  \n",
       "4      0.1%       NaN  \n",
       "5       NaN       NaN  "
      ]
     },
     "execution_count": 32,
     "metadata": {},
     "output_type": "execute_result"
    }
   ],
   "source": [
    "seattletab[1]\n",
    "bostontab[2]\n",
    "newyorktab[3]"
   ]
  },
  {
   "cell_type": "code",
   "execution_count": 44,
   "id": "b1e7b249",
   "metadata": {},
   "outputs": [],
   "source": [
    "seattlerace=seattletab[1]\n",
    "bostonrace=bostontab[2]\n",
    "newyorkrace=newyorktab[3]\n"
   ]
  },
  {
   "cell_type": "code",
   "execution_count": 45,
   "id": "4d8576af",
   "metadata": {},
   "outputs": [
    {
     "data": {
      "text/plain": [
       "set()"
      ]
     },
     "execution_count": 45,
     "metadata": {},
     "output_type": "execute_result"
    }
   ],
   "source": [
    "set(seattlerace.columns)&set(bostonrace)&set(newyorkrace)"
   ]
  },
  {
   "cell_type": "code",
   "execution_count": 58,
   "id": "70b8768d",
   "metadata": {},
   "outputs": [
    {
     "data": {
      "text/plain": [
       "Race/ethnicity    object\n",
       "2020[146]         object\n",
       "2010[147]         object\n",
       "1990[142]         object\n",
       "1970[142]         object\n",
       "1940[142]         object\n",
       "dtype: object"
      ]
     },
     "execution_count": 58,
     "metadata": {},
     "output_type": "execute_result"
    }
   ],
   "source": [
    "bostonrace.dtypes"
   ]
  },
  {
   "cell_type": "code",
   "execution_count": 61,
   "id": "4a555c8c",
   "metadata": {},
   "outputs": [
    {
     "ename": "SyntaxError",
     "evalue": "invalid syntax (1154061566.py, line 10)",
     "output_type": "error",
     "traceback": [
      "\u001b[1;36m  Cell \u001b[1;32mIn[61], line 10\u001b[1;36m\u001b[0m\n\u001b[1;33m    seattlerace.2020[113].replace(to_replace=change2020,inplace=True)\u001b[0m\n\u001b[1;37m               ^\u001b[0m\n\u001b[1;31mSyntaxError\u001b[0m\u001b[1;31m:\u001b[0m invalid syntax\n"
     ]
    }
   ],
   "source": [
    "#create change logic for column names#\n",
    "change2020={\"2020[113]\":\"2020\",\"2020[146]\":\"2020\",\"2020[249]\":\"2020\"}\n",
    "change2010={\"2010[147]\":\"2010\",\"2010[114]\":\"2010\",\"2010[250]\":\"2010\"}\n",
    "change1990={\"1990[251]\":\"1990\",\"1990[38]\":\"1990\",\"1990[142]\":\"1990\"}\n",
    "change1970={\"1970[38]\":\"1970\",\"1970[142]\":\"1970\",\"1970[251]\":\"1970\"}     \n",
    "change1940={\"1940[38]\":\"1940\",\"1940[142]\":\"1940\",\"1940[251]\":\"1940\"}\n",
    "changeRace={\"Racial composition\":\"Race\",\"Race/ethnicity\":\"Race\",\"Historical demographics\":\"Race\"}\n",
    "\n",
    "#implement changes to column names#\n",
    "seattlerace.2020[113].replace(to_replace=change2020,inplace=True)\n",
    "seattlerace.2010[114].replace(to_replace=change2010,inplace=True)\n",
    "seattlerace.1990[38].replace(to_replace=change1990,inplace=True)\n",
    "seattlerace.1970[38].replace(to_replace=change1970,inplace=True)\n",
    "seattlerace.1940[38].replace(to_replace=change1940,inplace=True)\n",
    "seattlerace.Racial_composition.replace(to_replace=changeRace,inplace=True)\n",
    "\n",
    "bostonrace.2020[146].replace(to_replace=change2020,inplace=True)\n",
    "bostonrace.2010[147].replace(to_replace=change2010,inplace=True)\n",
    "bostonrace.1990[142].replace(to_replace=change1990,inplace=True)\n",
    "bostonrace.1970[142].replace(to_replace=change1970,inplace=True)\n",
    "bostonrace.1940[142].replace(to_replace=change1940,inplace=True)\n",
    "bostonrace.Race/ethinicity.replace(to_replace=changeRace,inplace=True)\n",
    "\n",
    "newyorkrace.2020[249].replace(to_replace=change2020,inplace=True)\n",
    "newyorkrace.2010[250].replace(to_replace=change2010,inplace=True)\n",
    "newyorkrace.1990[251].replace(to_replace=change1990,inplace=True)\n",
    "newyorkrace.1970[251].replace(to_replace=change1970,inplace=True)\n",
    "newyorkrace.1940[251].replace(to_replace=change1940,inplace=True)\n",
    "newyorkrace.Historical_demographics.replace(to_replace=changeRace,inplace=True)\n"
   ]
  },
  {
   "cell_type": "code",
   "execution_count": null,
   "id": "0a59a9c5",
   "metadata": {},
   "outputs": [],
   "source": []
  }
 ],
 "metadata": {
  "kernelspec": {
   "display_name": "Python 3 (ipykernel)",
   "language": "python",
   "name": "python3"
  },
  "language_info": {
   "codemirror_mode": {
    "name": "ipython",
    "version": 3
   },
   "file_extension": ".py",
   "mimetype": "text/x-python",
   "name": "python",
   "nbconvert_exporter": "python",
   "pygments_lexer": "ipython3",
   "version": "3.10.8"
  }
 },
 "nbformat": 4,
 "nbformat_minor": 5
}
